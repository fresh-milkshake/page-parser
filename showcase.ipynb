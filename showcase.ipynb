{
 "cells": [
  {
   "cell_type": "markdown",
   "metadata": {},
   "source": [
    "# Page Parser Pipeline Showcase\n",
    "\n",
    "This notebook demonstrates the page-parser pipeline functionality, including document processing, layout detection, text extraction, and image annotation capabilities."
   ]
  },
  {
   "cell_type": "markdown",
   "metadata": {},
   "source": [
    "## Setup and Imports"
   ]
  },
  {
   "cell_type": "code",
   "execution_count": null,
   "metadata": {},
   "outputs": [],
   "source": [
    "import sys\n",
    "import json\n",
    "from pathlib import Path\n",
    "import cv2\n",
    "import numpy as np\n",
    "from typing import List, Dict, Any\n",
    "import matplotlib.pyplot as plt\n",
    "from PIL import Image\n",
    "\n",
    "# Add src to path for imports\n",
    "sys.path.append('src')\n",
    "\n",
    "from src.pipeline import pipeline\n",
    "from src.pipeline.document import pdf_to_png, Detector\n",
    "from src.pipeline.image import annotate_image\n",
    "from src.config.settings import get_settings\n",
    "from src.common.logging import setup_logging, get_logger"
   ]
  },
  {
   "cell_type": "markdown",
   "metadata": {},
   "source": [
    "## Initialize Logging and Settings"
   ]
  },
  {
   "cell_type": "code",
   "execution_count": null,
   "metadata": {},
   "outputs": [],
   "source": [
    "# Setup logging\n",
    "setup_logging(log_level=\"INFO\")\n",
    "logger = get_logger(\"pipeline_showcase\")\n",
    "\n",
    "# Load settings\n",
    "settings = get_settings(Path(\"settings.toml\"))\n",
    "print(f\"Vision provider: {settings.vision.provider.name}\")\n",
    "print(f\"Model: {settings.vision.provider.model}\")\n",
    "print(f\"Chart labels: {settings.filtration.chart_labels}\")\n",
    "print(f\"OCR language: {settings.processing.ocr_lang}\")\n",
    "print(f\"Zoom factor: {settings.processing.zoom_factor}\")"
   ]
  },
  {
   "cell_type": "markdown",
   "metadata": {},
   "source": [
    "## PDF to PNG Conversion\n",
    "\n",
    "First, let's convert a PDF document to PNG images for processing."
   ]
  },
  {
   "cell_type": "code",
   "execution_count": null,
   "metadata": {},
   "outputs": [],
   "source": [
    "# Convert PDF to PNG\n",
    "pdf_path = \"data/2507.21509v1.pdf\"\n",
    "temp_output_dir = \"temp_images\"\n",
    "Path(temp_output_dir).mkdir(exist_ok=True)\n",
    "\n",
    "logger.info(f\"Converting PDF: {pdf_path}\")\n",
    "image_paths = pdf_to_png(\n",
    "    pdf_path=pdf_path,\n",
    "    output_dir=temp_output_dir,\n",
    "    zoom_x=settings.processing.zoom_factor,\n",
    "    zoom_y=settings.processing.zoom_factor,\n",
    ")\n",
    "\n",
    "print(f\"Generated {len(image_paths)} page images:\")\n",
    "for i, path in enumerate(image_paths[:3]):  # Show first 3\n",
    "    print(f\"  Page {i+1}: {path}\")\n",
    "if len(image_paths) > 3:\n",
    "    print(f\"  ... and {len(image_paths) - 3} more\")"
   ]
  },
  {
   "cell_type": "markdown",
   "metadata": {},
   "source": [
    "## Display Sample Page\n",
    "\n",
    "Let's display the first page to see what we're working with."
   ]
  },
  {
   "cell_type": "code",
   "execution_count": null,
   "metadata": {},
   "outputs": [],
   "source": [
    "# Display first page\n",
    "first_page_path = image_paths[0]\n",
    "img = Image.open(first_page_path)\n",
    "\n",
    "plt.figure(figsize=(12, 16))\n",
    "plt.imshow(img)\n",
    "plt.axis('off')\n",
    "plt.title(f\"Sample Page: {Path(first_page_path).name}\")\n",
    "plt.tight_layout()\n",
    "plt.show()\n",
    "\n",
    "print(f\"Image dimensions: {img.size}\")"
   ]
  },
  {
   "cell_type": "markdown",
   "metadata": {},
   "source": [
    "## Layout Detection\n",
    "\n",
    "Now let's use the YOLO detector to identify different elements in the document."
   ]
  },
  {
   "cell_type": "code",
   "execution_count": null,
   "metadata": {},
   "outputs": [],
   "source": [
    "# Initialize detector\n",
    "model_path = \"models/yolov12l-doclaynet.pt\"\n",
    "detector = Detector(model_path=model_path)\n",
    "\n",
    "print(f\"Detector initialized with model: {model_path}\")\n",
    "print(f\"Model class names: {detector.model.names}\")"
   ]
  },
  {
   "cell_type": "code",
   "execution_count": null,
   "metadata": {},
   "outputs": [],
   "source": [
    "# Detect layout elements in the first page\n",
    "detections = detector.parse_layout(Path(first_page_path))\n",
    "\n",
    "print(f\"Found {len(detections)} elements:\")\n",
    "for i, detection in enumerate(detections):\n",
    "    x1, y1, x2, y2 = detection.bbox\n",
    "    width = x2 - x1\n",
    "    height = y2 - y1\n",
    "    print(f\"  {i+1}. {detection.label_name} (confidence: {detection.confidence:.3f}) - Size: {width}x{height}\")"
   ]
  },
  {
   "cell_type": "markdown",
   "metadata": {},
   "source": [
    "## Image Annotation\n",
    "\n",
    "Let's annotate the image with the detected bounding boxes and labels."
   ]
  },
  {
   "cell_type": "code",
   "execution_count": null,
   "metadata": {},
   "outputs": [],
   "source": [
    "# Annotate the image with detections\n",
    "annotated_img = annotate_image(\n",
    "    image_path=str(first_page_path),\n",
    "    detections=detections,\n",
    "    line_width=3,\n",
    "    font_size=12,\n",
    ")\n",
    "\n",
    "# Display annotated image\n",
    "plt.figure(figsize=(12, 16))\n",
    "# Convert BGR to RGB for matplotlib\n",
    "annotated_img_rgb = cv2.cvtColor(annotated_img, cv2.COLOR_BGR2RGB)\n",
    "plt.imshow(annotated_img_rgb)\n",
    "plt.axis('off')\n",
    "plt.title(\"Annotated Page with Layout Detection\")\n",
    "plt.tight_layout()\n",
    "plt.show()"
   ]
  },
  {
   "cell_type": "markdown",
   "metadata": {},
   "source": [
    "## Filter Chart Elements\n",
    "\n",
    "Let's filter the detections to focus on chart/figure elements."
   ]
  },
  {
   "cell_type": "code",
   "execution_count": null,
   "metadata": {},
   "outputs": [],
   "source": [
    "from src.pipeline.utils import filter_detections\n",
    "\n",
    "# Filter for chart elements\n",
    "chart_labels = settings.filtration.chart_labels\n",
    "chart_detections = filter_detections(detections, chart_labels)\n",
    "\n",
    "print(f\"Chart labels to filter: {chart_labels}\")\n",
    "print(f\"Found {len(chart_detections)} chart/figure elements:\")\n",
    "for i, detection in enumerate(chart_detections):\n",
    "    x1, y1, x2, y2 = detection.bbox\n",
    "    width = x2 - x1\n",
    "    height = y2 - y1\n",
    "    print(f\"  {i+1}. {detection.label_name} (confidence: {detection.confidence:.3f}) - Size: {width}x{height}\")"
   ]
  },
  {
   "cell_type": "code",
   "execution_count": null,
   "metadata": {},
   "outputs": [],
   "source": [
    "# Annotate image with only chart elements\n",
    "if chart_detections:\n",
    "    chart_annotated_img = annotate_image(\n",
    "        image_path=str(first_page_path),\n",
    "        detections=chart_detections,\n",
    "        line_width=4,\n",
    "        font_size=14,\n",
    "    )\n",
    "    \n",
    "    # Display chart-only annotated image\n",
    "    plt.figure(figsize=(12, 16))\n",
    "    chart_annotated_img_rgb = cv2.cvtColor(chart_annotated_img, cv2.COLOR_BGR2RGB)\n",
    "    plt.imshow(chart_annotated_img_rgb)\n",
    "    plt.axis('off')\n",
    "    plt.title(\"Chart/Figure Elements Only\")\n",
    "    plt.tight_layout()\n",
    "    plt.show()\n",
    "else:\n",
    "    print(\"No chart elements found in this page.\")"
   ]
  },
  {
   "cell_type": "markdown",
   "metadata": {},
   "source": [
    "## Full Pipeline Execution\n",
    "\n",
    "Now let's run the complete pipeline on a document to see the full workflow in action."
   ]
  },
  {
   "cell_type": "code",
   "execution_count": null,
   "metadata": {},
   "outputs": [],
   "source": [
    "# Run full pipeline\n",
    "output_dir = \"showcase_output\"\n",
    "Path(output_dir).mkdir(exist_ok=True)\n",
    "\n",
    "logger.info(\"Running full pipeline...\")\n",
    "try:\n",
    "    results = pipeline(\n",
    "        document_path=pdf_path,\n",
    "        model_path=model_path,\n",
    "        output_dir=output_dir,\n",
    "        settings_file=Path(\"settings.toml\"),\n",
    "    )\n",
    "    \n",
    "    print(f\"\\nPipeline completed successfully!\")\n",
    "    print(f\"Processed {len(results)} pages\")\n",
    "    \n",
    "    # Show summary statistics\n",
    "    total_elements = sum(len(page['elements']) for page in results)\n",
    "    chart_elements = sum(len([e for e in page['elements'] if e['type'] == 'chart']) for page in results)\n",
    "    text_elements = sum(len([e for e in page['elements'] if e['type'] == 'text']) for page in results)\n",
    "    \n",
    "    print(f\"Total elements extracted: {total_elements}\")\n",
    "    print(f\"  - Chart elements: {chart_elements}\")\n",
    "    print(f\"  - Text elements: {text_elements}\")\n",
    "    \n",
    "except Exception as e:\n",
    "    print(f\"Pipeline failed: {e}\")\n",
    "    logger.error(f\"Pipeline error: {e}\", exc_info=True)"
   ]
  },
  {
   "cell_type": "markdown",
   "metadata": {},
   "source": [
    "## Examine Pipeline Results\n",
    "\n",
    "Let's look at the detailed results from the pipeline execution."
   ]
  },
  {
   "cell_type": "code",
   "execution_count": null,
   "metadata": {},
   "outputs": [],
   "source": [
    "# Display results for first page\n",
    "if 'results' in locals() and results:\n",
    "    first_page_result = results[0]\n",
    "    \n",
    "    print(f\"Page {first_page_result['page_number']} Results:\")\n",
    "    print(f\"Number of elements: {len(first_page_result['elements'])}\")\n",
    "    print(\"\\nElement breakdown:\")\n",
    "    \n",
    "    for i, element in enumerate(first_page_result['elements']):\n",
    "        print(f\"\\nElement {i+1}:\")\n",
    "        print(f\"  Type: {element['type']}\")\n",
    "        \n",
    "        if element['type'] == 'chart':\n",
    "            print(f\"  Label: {element['label']}\")\n",
    "            print(f\"  Bbox: {element['bbox']}\")\n",
    "            print(f\"  Summary: {element['summary'][:200]}...\" if len(element['summary']) > 200 else f\"  Summary: {element['summary']}\")\n",
    "        elif element['type'] == 'text':\n",
    "            print(f\"  Bbox: {element['bbox']}\")\n",
    "            print(f\"  Text preview: {element['text'][:200]}...\" if len(element['text']) > 200 else f\"  Text: {element['text']}\")\n",
    "else:\n",
    "    print(\"No pipeline results available.\")"
   ]
  },
  {
   "cell_type": "markdown",
   "metadata": {},
   "source": [
    "## Advanced Annotation Examples\n",
    "\n",
    "Let's demonstrate more advanced annotation features with different styling options."
   ]
  },
  {
   "cell_type": "code",
   "execution_count": null,
   "metadata": {},
   "outputs": [],
   "source": [
    "# Create multiple annotation styles\n",
    "from src.pipeline.image.annotate import Fonts\n",
    "\n",
    "if detections:\n",
    "    # Style 1: Thin lines, small font\n",
    "    style1_img = annotate_image(\n",
    "        image_path=str(first_page_path),\n",
    "        detections=detections,\n",
    "        line_width=1,\n",
    "        font=Fonts.Arial,\n",
    "        font_size=8,\n",
    "    )\n",
    "    \n",
    "    # Style 2: Thick lines, large font\n",
    "    style2_img = annotate_image(\n",
    "        image_path=str(first_page_path),\n",
    "        detections=detections,\n",
    "        line_width=5,\n",
    "        font=Fonts.Consolas,\n",
    "        font_size=16,\n",
    "    )\n",
    "    \n",
    "    # Display both styles side by side\n",
    "    fig, (ax1, ax2) = plt.subplots(1, 2, figsize=(24, 16))\n",
    "    \n",
    "    ax1.imshow(cv2.cvtColor(style1_img, cv2.COLOR_BGR2RGB))\n",
    "    ax1.set_title(\"Style 1: Thin Lines, Small Font\")\n",
    "    ax1.axis('off')\n",
    "    \n",
    "    ax2.imshow(cv2.cvtColor(style2_img, cv2.COLOR_BGR2RGB))\n",
    "    ax2.set_title(\"Style 2: Thick Lines, Large Font\")\n",
    "    ax2.axis('off')\n",
    "    \n",
    "    plt.tight_layout()\n",
    "    plt.show()\n",
    "else:\n",
    "    print(\"No detections available for styling demonstration.\")"
   ]
  },
  {
   "cell_type": "markdown",
   "metadata": {},
   "source": [
    "## Save Annotated Images\n",
    "\n",
    "Let's save some annotated images to the output directory."
   ]
  },
  {
   "cell_type": "code",
   "execution_count": null,
   "metadata": {},
   "outputs": [],
   "source": [
    "# Save annotated images with different styles\n",
    "save_dir = Path(output_dir) / \"annotated_images\"\n",
    "save_dir.mkdir(exist_ok=True)\n",
    "\n",
    "if detections:\n",
    "    # Save full annotation\n",
    "    full_annotated = annotate_image(\n",
    "        image_path=str(first_page_path),\n",
    "        detections=detections,\n",
    "        line_width=3,\n",
    "        font_size=12,\n",
    "        autosave=True,\n",
    "        save_path=str(save_dir / \"full_annotated.png\")\n",
    "    )\n",
    "    \n",
    "    # Save chart-only annotation if charts exist\n",
    "    if chart_detections:\n",
    "        chart_only_annotated = annotate_image(\n",
    "            image_path=str(first_page_path),\n",
    "            detections=chart_detections,\n",
    "            line_width=4,\n",
    "            font_size=14,\n",
    "            autosave=True,\n",
    "            save_path=str(save_dir / \"charts_only.png\")\n",
    "        )\n",
    "    \n",
    "    print(f\"Annotated images saved to: {save_dir}\")\n",
    "    print(f\"Files created:\")\n",
    "    for file in save_dir.glob(\"*.png\"):\n",
    "        print(f\"  - {file.name}\")\n",
    "else:\n",
    "    print(\"No detections to save.\")"
   ]
  },
  {
   "cell_type": "markdown",
   "metadata": {},
   "source": [
    "## Pipeline Performance Summary\n",
    "\n",
    "Let's create a summary of the pipeline's performance and capabilities."
   ]
  },
  {
   "cell_type": "code",
   "execution_count": null,
   "metadata": {},
   "outputs": [],
   "source": [
    "# Create performance summary\n",
    "print(\"=\" * 50)\n",
    "print(\"PAGE PARSER PIPELINE SHOWCASE SUMMARY\")\n",
    "print(\"=\" * 50)\n",
    "\n",
    "print(f\"\\nInput Document: {Path(pdf_path).name}\")\n",
    "print(f\"Model Used: {Path(model_path).name}\")\n",
    "print(f\"Pages Converted: {len(image_paths)}\")\n",
    "print(f\"Elements Detected (Page 1): {len(detections)}\")\n",
    "\n",
    "if 'results' in locals() and results:\n",
    "    total_pages = len(results)\n",
    "    total_elements = sum(len(page['elements']) for page in results)\n",
    "    total_charts = sum(len([e for e in page['elements'] if e['type'] == 'chart']) for page in results)\n",
    "    total_text = sum(len([e for e in page['elements'] if e['type'] == 'text']) for page in results)\n",
    "    \n",
    "    print(f\"\\nFull Pipeline Results:\")\n",
    "    print(f\"  Total Pages Processed: {total_pages}\")\n",
    "    print(f\"  Total Elements Extracted: {total_elements}\")\n",
    "    print(f\"  Chart Elements: {total_charts}\")\n",
    "    print(f\"  Text Elements: {total_text}\")\n",
    "\n",
    "print(f\"\\nCapabilities Demonstrated:\")\n",
    "print(f\"  ✓ PDF to PNG conversion\")\n",
    "print(f\"  ✓ Layout detection with YOLO\")\n",
    "print(f\"  ✓ Element filtering and classification\")\n",
    "print(f\"  ✓ Image annotation with bounding boxes\")\n",
    "print(f\"  ✓ Multiple annotation styles\")\n",
    "print(f\"  ✓ Chart summarization (if configured)\")\n",
    "print(f\"  ✓ Text extraction with OCR\")\n",
    "print(f\"  ✓ JSON output generation\")\n",
    "\n",
    "print(f\"\\nOutput Files Generated:\")\n",
    "output_path = Path(output_dir)\n",
    "if output_path.exists():\n",
    "    for file in output_path.rglob(\"*.*\"):\n",
    "        if file.is_file():\n",
    "            print(f\"  - {file.relative_to(output_path)}\")\n",
    "\n",
    "print(\"\\n\" + \"=\" * 50)\n",
    "print(\"Showcase completed successfully!\")\n",
    "print(\"=\" * 50)"
   ]
  },
  {
   "cell_type": "markdown",
   "metadata": {},
   "source": [
    "## Cleanup\n",
    "\n",
    "Clean up temporary files created during the showcase."
   ]
  },
  {
   "cell_type": "code",
   "execution_count": null,
   "metadata": {},
   "outputs": [],
   "source": [
    "import shutil\n",
    "\n",
    "# Clean up temporary image directory\n",
    "temp_dir = Path(temp_output_dir)\n",
    "if temp_dir.exists():\n",
    "    shutil.rmtree(temp_dir)\n",
    "    print(f\"Cleaned up temporary directory: {temp_dir}\")\n",
    "\n",
    "print(\"\\nShowcase completed! Check the output directory for generated files.\")\n",
    "print(f\"Output directory: {Path(output_dir).absolute()}\")"
   ]
  }
 ],
 "metadata": {
  "kernelspec": {
   "display_name": ".venv",
   "language": "python",
   "name": "python3"
  },
  "language_info": {
   "codemirror_mode": {
    "name": "ipython",
    "version": 3
   },
   "file_extension": ".py",
   "mimetype": "text/x-python",
   "name": "python",
   "nbconvert_exporter": "python",
   "pygments_lexer": "ipython3",
   "version": "3.13.0"
  }
 },
 "nbformat": 4,
 "nbformat_minor": 4
}
